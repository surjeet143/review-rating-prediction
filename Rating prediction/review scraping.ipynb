{
 "cells": [
  {
   "cell_type": "code",
   "execution_count": 1,
   "metadata": {},
   "outputs": [],
   "source": [
    "from selenium import webdriver\n",
    "from selenium.webdriver.common.keys import Keys\n",
    "import pandas as pd\n",
    "from selenium.webdriver.common.action_chains import ActionChains\n",
    "from selenium.webdriver.support.ui import WebDriverWait\n",
    "from selenium.webdriver.common.by import By\n",
    "from selenium.common.exceptions import NoSuchElementException\n",
    "from selenium.common.exceptions import NoSuchWindowException\n",
    "import time\n",
    "from selenium.webdriver.support.ui import Select\n",
    "from selenium.webdriver.support import expected_conditions as EC"
   ]
  },
  {
   "cell_type": "code",
   "execution_count": 2,
   "metadata": {},
   "outputs": [],
   "source": [
    "rev_link = 'https://www.amazon.in/Lenovo-Keyboard-Fingerprint-Graphite-82FG013WIN/product-reviews/B09FHT8219/ref=cm_cr_dp_d_show_all_btm?ie=UTF8&reviewerType=all_reviews'"
   ]
  },
  {
   "cell_type": "code",
   "execution_count": 45,
   "metadata": {},
   "outputs": [],
   "source": [
    "driver = webdriver.Chrome('chromedriver')\n",
    "driver.get(\"https://www.amazon.in/dp/B08W7323TN/ref=sspa_dk_rar_aax_0?psc=1&spLa=ZW5jcnlwdGVkUXVhbGlmaWVyPUExVktQRTZOUklCWjdNJmVuY3J5cHRlZElkPUEwNDQ5MTE2MzJHOENHMlJCT1pPMiZlbmNyeXB0ZWRBZElkPUEwMDQwNTcxM0hPQUs5NkVQU0RNNyZ3aWRnZXROYW1lPXNwX3Jhcl9zaGFyZWQmYWN0aW9uPWNsaWNrUmVkaXJlY3QmZG9Ob3RMb2dDbGljaz10cnVl\")"
   ]
  },
  {
   "cell_type": "code",
   "execution_count": 65,
   "metadata": {},
   "outputs": [],
   "source": [
    "def scrap(n):\n",
    "    review = []\n",
    "    main_review = []\n",
    "    rating = []\n",
    "    for i in range(n):\n",
    "        try:\n",
    "            driver.find_element_by_xpath(\"//div[@class = 'a-row a-spacing-medium']/a\").click()\n",
    "        except:\n",
    "            pass\n",
    "        for i in range(2):\n",
    "            driver.execute_script(\"window.scrollTo(0,document.body.scrollHeight)\") #scrolling down the page\n",
    "        time.sleep(3)\n",
    "        reviews = driver.find_elements_by_xpath(\"//div[@class = 'a-section celwidget']/div/a[2]\")\n",
    "        main_rev = driver.find_elements_by_xpath(\"//div[@class = 'a-row a-spacing-small review-data']\")\n",
    "        ratings = driver.find_elements_by_xpath(\"//div[@class = 'a-section celwidget']/div[@class = 'a-row']/a[1]\")\n",
    "        review_text = [rev.text for rev in reviews]\n",
    "        rating_num = [round(float(rat.get_attribute('title').split()[0]),0) for rat in ratings]\n",
    "        main_rev_text = [rev.text.replace(\"\\n\", \" \") for rev in main_rev]\n",
    "        review = review + review_text\n",
    "        main_review = main_review + main_rev_text\n",
    "        rating = rating + rating_num\n",
    "        for i in range(2):\n",
    "            driver.execute_script(\"window.scrollTo(0,document.body.scrollHeight)\") #scrolling down the page\n",
    "            time.sleep(3)\n",
    "        driver.find_element_by_xpath(\"//div[@class = 'p13n-sc-truncate-desktop-type2  p13n-sc-truncated']\").click()\n",
    "        time.sleep(3)\n",
    "    zipped = list(zip(review, main_review, rating))\n",
    "    df = pd.DataFrame(zipped, columns=['review', 'main_review', 'rating'])\n",
    "    return df"
   ]
  },
  {
   "cell_type": "code",
   "execution_count": null,
   "metadata": {},
   "outputs": [],
   "source": [
    "review = []\n",
    "main_review = []\n",
    "rating = []\n",
    "for i in range(500):\n",
    "    try:\n",
    "        driver.find_element_by_xpath(\"//div[@class = 'a-row a-spacing-medium']/a\").click()\n",
    "    except:\n",
    "        pass\n",
    "    for i in range(2):\n",
    "        driver.execute_script(\"window.scrollTo(0,document.body.scrollHeight)\") #scrolling down the page\n",
    "    time.sleep(3)\n",
    "    reviews = driver.find_elements_by_xpath(\"//div[@class = 'a-section celwidget']/div/a[2]\")\n",
    "    main_rev = driver.find_elements_by_xpath(\"//div[@class = 'a-row a-spacing-small review-data']\")\n",
    "    ratings = driver.find_elements_by_xpath(\"//div[@class = 'a-section celwidget']/div[@class = 'a-row']/a[1]\")\n",
    "    review_text = [rev.text for rev in reviews]\n",
    "    rating_num = [round(float(rat.get_attribute('title').split()[0]),0) for rat in ratings]\n",
    "    main_rev_text = [rev.text.replace(\"\\n\", \" \") for rev in main_rev]\n",
    "    review = review + review_text\n",
    "    main_review = main_review + main_rev_text\n",
    "    rating = rating + rating_num\n",
    "    for i in range(2):\n",
    "        driver.execute_script(\"window.scrollTo(0,document.body.scrollHeight)\") #scrolling down the page\n",
    "        time.sleep(3)\n",
    "    driver.find_element_by_xpath(\"//div[@class = 'p13n-sc-truncate-desktop-type2  p13n-sc-truncated']\").click()\n",
    "    time.sleep(3)\n",
    "#zipped = list(zip(review, main_review, ratindf = pd.DataFrame(zipped, columns=['review', 'main_review', 'rating'])"
   ]
  },
  {
   "cell_type": "code",
   "execution_count": 47,
   "metadata": {},
   "outputs": [],
   "source": [
    "zipped = list(zip(review, main_review, rating))\n",
    "df1 = pd.DataFrame(zipped, columns=['review', 'main_review', 'rating'])"
   ]
  },
  {
   "cell_type": "code",
   "execution_count": 39,
   "metadata": {},
   "outputs": [],
   "source": [
    "df.to_csv('df5')"
   ]
  },
  {
   "cell_type": "code",
   "execution_count": 48,
   "metadata": {},
   "outputs": [
    {
     "data": {
      "text/plain": [
       "(4426, 3)"
      ]
     },
     "execution_count": 48,
     "metadata": {},
     "output_type": "execute_result"
    }
   ],
   "source": [
    "df1.shape"
   ]
  },
  {
   "cell_type": "code",
   "execution_count": 49,
   "metadata": {},
   "outputs": [
    {
     "data": {
      "text/plain": [
       "4426"
      ]
     },
     "execution_count": 49,
     "metadata": {},
     "output_type": "execute_result"
    }
   ],
   "source": [
    "len(rating)"
   ]
  },
  {
   "cell_type": "code",
   "execution_count": null,
   "metadata": {},
   "outputs": [],
   "source": []
  }
 ],
 "metadata": {
  "kernelspec": {
   "display_name": "Python 3",
   "language": "python",
   "name": "python3"
  },
  "language_info": {
   "codemirror_mode": {
    "name": "ipython",
    "version": 3
   },
   "file_extension": ".py",
   "mimetype": "text/x-python",
   "name": "python",
   "nbconvert_exporter": "python",
   "pygments_lexer": "ipython3",
   "version": "3.7.3"
  }
 },
 "nbformat": 4,
 "nbformat_minor": 4
}
