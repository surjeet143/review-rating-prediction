{
 "cells": [
  {
   "cell_type": "code",
   "execution_count": 1,
   "metadata": {},
   "outputs": [],
   "source": [
    "import pandas as pd\n",
    "import matplotlib.pyplot as plt\n",
    "import seaborn as sns\n",
    "import re\n",
    "import nltk\n",
    "from textblob import TextBlob\n",
    "import wordcloud\n",
    "import gensim.downloader as gensim_api"
   ]
  },
  {
   "cell_type": "code",
   "execution_count": 6,
   "metadata": {},
   "outputs": [],
   "source": [
    "df1 = pd.read_csv(\"df1\")\n",
    "df2 = pd.read_csv(\"df2\")\n",
    "df3 = pd.read_csv(\"df3\")\n",
    "df4 = pd.read_csv(\"df4\")\n",
    "df5 = pd.read_csv(\"df5\")"
   ]
  },
  {
   "cell_type": "code",
   "execution_count": 7,
   "metadata": {},
   "outputs": [],
   "source": [
    "df = pd.concat([df1, df2, df3, df4, df5])"
   ]
  },
  {
   "cell_type": "code",
   "execution_count": 9,
   "metadata": {},
   "outputs": [],
   "source": [
    "df.to_csv(\"final_df.csv\")"
   ]
  },
  {
   "cell_type": "code",
   "execution_count": 13,
   "metadata": {},
   "outputs": [
    {
     "data": {
      "text/html": [
       "<div>\n",
       "<style scoped>\n",
       "    .dataframe tbody tr th:only-of-type {\n",
       "        vertical-align: middle;\n",
       "    }\n",
       "\n",
       "    .dataframe tbody tr th {\n",
       "        vertical-align: top;\n",
       "    }\n",
       "\n",
       "    .dataframe thead th {\n",
       "        text-align: right;\n",
       "    }\n",
       "</style>\n",
       "<table border=\"1\" class=\"dataframe\">\n",
       "  <thead>\n",
       "    <tr style=\"text-align: right;\">\n",
       "      <th></th>\n",
       "      <th>Unnamed: 0</th>\n",
       "      <th>review</th>\n",
       "      <th>main_review</th>\n",
       "      <th>rating</th>\n",
       "    </tr>\n",
       "  </thead>\n",
       "  <tbody>\n",
       "    <tr>\n",
       "      <th>0</th>\n",
       "      <td>0</td>\n",
       "      <td>Best Earbuds</td>\n",
       "      <td>The Quality And Design of the Earbuds are so g...</td>\n",
       "      <td>5.0</td>\n",
       "    </tr>\n",
       "    <tr>\n",
       "      <th>1</th>\n",
       "      <td>1</td>\n",
       "      <td>Amezing product P tron</td>\n",
       "      <td>True Wireless Bluetooth Headphones(TWS) with i...</td>\n",
       "      <td>5.0</td>\n",
       "    </tr>\n",
       "    <tr>\n",
       "      <th>2</th>\n",
       "      <td>2</td>\n",
       "      <td>Best purchase😍</td>\n",
       "      <td>Sound quality is so good.. Pocket friendly wi...</td>\n",
       "      <td>5.0</td>\n",
       "    </tr>\n",
       "    <tr>\n",
       "      <th>3</th>\n",
       "      <td>3</td>\n",
       "      <td>Best quality earbuds</td>\n",
       "      <td>Bassbuds connects really well even from a good...</td>\n",
       "      <td>5.0</td>\n",
       "    </tr>\n",
       "    <tr>\n",
       "      <th>4</th>\n",
       "      <td>4</td>\n",
       "      <td>Replace if you get defective piece</td>\n",
       "      <td>Initially gave 2 stars for first one. They so...</td>\n",
       "      <td>5.0</td>\n",
       "    </tr>\n",
       "  </tbody>\n",
       "</table>\n",
       "</div>"
      ],
      "text/plain": [
       "   Unnamed: 0                              review  \\\n",
       "0           0                        Best Earbuds   \n",
       "1           1              Amezing product P tron   \n",
       "2           2                      Best purchase😍   \n",
       "3           3                Best quality earbuds   \n",
       "4           4  Replace if you get defective piece   \n",
       "\n",
       "                                         main_review  rating  \n",
       "0  The Quality And Design of the Earbuds are so g...     5.0  \n",
       "1  True Wireless Bluetooth Headphones(TWS) with i...     5.0  \n",
       "2   Sound quality is so good.. Pocket friendly wi...     5.0  \n",
       "3  Bassbuds connects really well even from a good...     5.0  \n",
       "4   Initially gave 2 stars for first one. They so...     5.0  "
      ]
     },
     "execution_count": 13,
     "metadata": {},
     "output_type": "execute_result"
    }
   ],
   "source": [
    "df.head()"
   ]
  },
  {
   "cell_type": "code",
   "execution_count": 18,
   "metadata": {},
   "outputs": [
    {
     "data": {
      "image/png": "[encoded data removed]",
      "text/plain": [
       "<Figure size 432x288 with 1 Axes>"
      ]
     },
     "metadata": {
      "needs_background": "light"
     },
     "output_type": "display_data"
    }
   ],
   "source": [
    "x = \"rating\"\n",
    "fig, ax = plt.subplots()\n",
    "fig.suptitle(x, fontsize=12)\n",
    "df[x].reset_index().groupby(x).count().sort_values(by=\"index\").plot(kind=\"barh\", legend=False, \n",
    "        ax=ax).grid(axis='x')\n",
    "plt.show()"
   ]
  },
  {
   "cell_type": "markdown",
   "metadata": {},
   "source": [
    "Data is imbalanced. We can use class weight balance or we can use undersampling and oversampling of the data to balance the data."
   ]
  },
  {
   "cell_type": "code",
   "execution_count": 15,
   "metadata": {},
   "outputs": [
    {
     "data": {
      "text/plain": [
       "(18383, 4)"
      ]
     },
     "execution_count": 15,
     "metadata": {},
     "output_type": "execute_result"
    }
   ],
   "source": [
    "df.shape"
   ]
  },
  {
   "cell_type": "markdown",
   "metadata": {},
   "source": [
    "## Language Prediction"
   ]
  },
  {
   "cell_type": "markdown",
   "metadata": {},
   "source": [
    "Since the used can comment in any of the local language. In that case it is important for us to detect the language of the comment."
   ]
  },
  {
   "cell_type": "code",
   "execution_count": 21,
   "metadata": {},
   "outputs": [],
   "source": [
    "import langdetect"
   ]
  },
  {
   "cell_type": "code",
   "execution_count": 40,
   "metadata": {},
   "outputs": [
    {
     "name": "stderr",
     "output_type": "stream",
     "text": [
      "C:\\Users\\Surjeet\\Anaconda3\\lib\\site-packages\\pandas\\core\\indexing.py:190: SettingWithCopyWarning: \n",
      "A value is trying to be set on a copy of a slice from a DataFrame\n",
      "\n",
      "See the caveats in the documentation: http://pandas.pydata.org/pandas-docs/stable/indexing.html#indexing-view-versus-copy\n",
      "  self._setitem_with_indexer(indexer, value)\n"
     ]
    }
   ],
   "source": [
    "# detecting the language of the reivew\n",
    "for i in range(df.shape[0]):\n",
    "    try:\n",
    "        df[\"lang\"] = langdetect.detect(df[\"review\"].iloc[i])\n",
    "    except:\n",
    "        df[\"lang\"].iloc[i] = \"unknown\""
   ]
  },
  {
   "cell_type": "code",
   "execution_count": 41,
   "metadata": {},
   "outputs": [
    {
     "data": {
      "text/html": [
       "<div>\n",
       "<style scoped>\n",
       "    .dataframe tbody tr th:only-of-type {\n",
       "        vertical-align: middle;\n",
       "    }\n",
       "\n",
       "    .dataframe tbody tr th {\n",
       "        vertical-align: top;\n",
       "    }\n",
       "\n",
       "    .dataframe thead th {\n",
       "        text-align: right;\n",
       "    }\n",
       "</style>\n",
       "<table border=\"1\" class=\"dataframe\">\n",
       "  <thead>\n",
       "    <tr style=\"text-align: right;\">\n",
       "      <th></th>\n",
       "      <th>Unnamed: 0</th>\n",
       "      <th>review</th>\n",
       "      <th>main_review</th>\n",
       "      <th>rating</th>\n",
       "      <th>lang</th>\n",
       "    </tr>\n",
       "  </thead>\n",
       "  <tbody>\n",
       "    <tr>\n",
       "      <th>0</th>\n",
       "      <td>0</td>\n",
       "      <td>Best Earbuds</td>\n",
       "      <td>The Quality And Design of the Earbuds are so g...</td>\n",
       "      <td>5.0</td>\n",
       "      <td>en</td>\n",
       "    </tr>\n",
       "    <tr>\n",
       "      <th>1</th>\n",
       "      <td>1</td>\n",
       "      <td>Amezing product P tron</td>\n",
       "      <td>True Wireless Bluetooth Headphones(TWS) with i...</td>\n",
       "      <td>5.0</td>\n",
       "      <td>en</td>\n",
       "    </tr>\n",
       "    <tr>\n",
       "      <th>2</th>\n",
       "      <td>2</td>\n",
       "      <td>Best purchase😍</td>\n",
       "      <td>Sound quality is so good.. Pocket friendly wi...</td>\n",
       "      <td>5.0</td>\n",
       "      <td>en</td>\n",
       "    </tr>\n",
       "    <tr>\n",
       "      <th>3</th>\n",
       "      <td>3</td>\n",
       "      <td>Best quality earbuds</td>\n",
       "      <td>Bassbuds connects really well even from a good...</td>\n",
       "      <td>5.0</td>\n",
       "      <td>en</td>\n",
       "    </tr>\n",
       "    <tr>\n",
       "      <th>4</th>\n",
       "      <td>4</td>\n",
       "      <td>Replace if you get defective piece</td>\n",
       "      <td>Initially gave 2 stars for first one. They so...</td>\n",
       "      <td>5.0</td>\n",
       "      <td>en</td>\n",
       "    </tr>\n",
       "  </tbody>\n",
       "</table>\n",
       "</div>"
      ],
      "text/plain": [
       "   Unnamed: 0                              review  \\\n",
       "0           0                        Best Earbuds   \n",
       "1           1              Amezing product P tron   \n",
       "2           2                      Best purchase😍   \n",
       "3           3                Best quality earbuds   \n",
       "4           4  Replace if you get defective piece   \n",
       "\n",
       "                                         main_review  rating lang  \n",
       "0  The Quality And Design of the Earbuds are so g...     5.0   en  \n",
       "1  True Wireless Bluetooth Headphones(TWS) with i...     5.0   en  \n",
       "2   Sound quality is so good.. Pocket friendly wi...     5.0   en  \n",
       "3  Bassbuds connects really well even from a good...     5.0   en  \n",
       "4   Initially gave 2 stars for first one. They so...     5.0   en  "
      ]
     },
     "execution_count": 41,
     "metadata": {},
     "output_type": "execute_result"
    }
   ],
   "source": [
    "df.head()"
   ]
  },
  {
   "cell_type": "code",
   "execution_count": 42,
   "metadata": {},
   "outputs": [
    {
     "data": {
      "image/png": "[encoded data removed]",
      "text/plain": [
       "<Figure size 432x288 with 1 Axes>"
      ]
     },
     "metadata": {
      "needs_background": "light"
     },
     "output_type": "display_data"
    }
   ],
   "source": [
    "# plot of different languages\n",
    "x = \"lang\"\n",
    "fig, ax = plt.subplots()\n",
    "fig.suptitle(x, fontsize=12)\n",
    "df[x].reset_index().groupby(x).count().sort_values(by=\"index\").plot(kind=\"barh\", legend=False, \n",
    "        ax=ax).grid(axis='x')\n",
    "plt.show()"
   ]
  },
  {
   "cell_type": "markdown",
   "metadata": {},
   "source": [
    "The language of the all the comments is english."
   ]
  },
  {
   "cell_type": "code",
   "execution_count": 44,
   "metadata": {},
   "outputs": [],
   "source": [
    "df = df[df[\"lang\"]==\"en\"]"
   ]
  },
  {
   "cell_type": "markdown",
   "metadata": {},
   "source": [
    "Some of the words are not important in the rating prediction. These are the words which are present in every text such as \"the\", \"a\", \"it\". In the NLP lingo, these words are known as stop words and we have to remove those words. Furhtermore, we have to stem the words. For example the word \"wash\" have same action as \"washing\". In the given text, \"washing\" will be changed to \"wash\"."
   ]
  },
  {
   "cell_type": "code",
   "execution_count": 61,
   "metadata": {},
   "outputs": [],
   "source": [
    "stopwords = nltk.corpus.stopwords.words(\"english\")\n",
    "def utils_preprocess_text(text, flg_stemm=False, flg_lemm=True, stopwords=stopwords):\n",
    "    ## clean (convert to lowercase and remove punctuations and characters and then strip)\n",
    "    text = re.sub(r'[^\\w\\s]', '', str(text).lower().strip())\n",
    "            \n",
    "    ## Tokenize (convert from string to list)\n",
    "    lst_text = text.split()\n",
    "    ## remove Stopwords\n",
    "    if stopwords is not None:\n",
    "        lst_text = [word for word in lst_text if word not in \n",
    "                    stopwords]\n",
    "                \n",
    "    ## Stemming (remove -ing, -ly, ...)\n",
    "    if flg_stemm == True:\n",
    "        ps = nltk.stem.porter.PorterStemmer()\n",
    "        lst_text = [ps.stem(word) for word in lst_text]\n",
    "                \n",
    "    ## Lemmatisation (convert the word into root word)\n",
    "    if flg_lemm == True:\n",
    "        lem = nltk.stem.wordnet.WordNetLemmatizer()\n",
    "        lst_text = [lem.lemmatize(word) for word in lst_text]\n",
    "            \n",
    "    ## back to string from list\n",
    "    text = \" \".join(lst_text)\n",
    "    return text"
   ]
  },
  {
   "cell_type": "code",
   "execution_count": 65,
   "metadata": {},
   "outputs": [],
   "source": [
    "# cleaning the text, removing stopwords, stemming\n",
    "stopwords = nltk.corpus.stopwords.words(\"english\")\n",
    "df[\"clean_review\"] = df[\"review\"].apply(lambda x: utils_preprocess_text(x, flg_stemm=False, flg_lemm=True))\n",
    "df[\"clean_main_review\"] = df[\"main_review\"].apply(lambda x: utils_preprocess_text(x, flg_stemm=False, flg_lemm=True))"
   ]
  },
  {
   "cell_type": "code",
   "execution_count": 69,
   "metadata": {},
   "outputs": [],
   "source": [
    "df.drop([\"Unnamed: 0\"], inplace=True, axis = 1)"
   ]
  },
  {
   "cell_type": "markdown",
   "metadata": {},
   "source": [
    "We will extract the word count, characted count of every review so that we can analyzes by the length of the comment."
   ]
  },
  {
   "cell_type": "code",
   "execution_count": 73,
   "metadata": {},
   "outputs": [
    {
     "data": {
      "text/html": [
       "<div>\n",
       "<style scoped>\n",
       "    .dataframe tbody tr th:only-of-type {\n",
       "        vertical-align: middle;\n",
       "    }\n",
       "\n",
       "    .dataframe tbody tr th {\n",
       "        vertical-align: top;\n",
       "    }\n",
       "\n",
       "    .dataframe thead th {\n",
       "        text-align: right;\n",
       "    }\n",
       "</style>\n",
       "<table border=\"1\" class=\"dataframe\">\n",
       "  <thead>\n",
       "    <tr style=\"text-align: right;\">\n",
       "      <th></th>\n",
       "      <th>review</th>\n",
       "      <th>main_review</th>\n",
       "      <th>rating</th>\n",
       "      <th>lang</th>\n",
       "      <th>clean_review</th>\n",
       "      <th>clean_main_review</th>\n",
       "      <th>rev_w_count</th>\n",
       "      <th>main_rev_w_count</th>\n",
       "      <th>rev_char_count</th>\n",
       "      <th>main_rev_char_count</th>\n",
       "      <th>sentence_count</th>\n",
       "      <th>avg_word_length</th>\n",
       "      <th>avg_sentence_lenght</th>\n",
       "    </tr>\n",
       "  </thead>\n",
       "  <tbody>\n",
       "    <tr>\n",
       "      <th>0</th>\n",
       "      <td>Best Earbuds</td>\n",
       "      <td>The Quality And Design of the Earbuds are so g...</td>\n",
       "      <td>5.0</td>\n",
       "      <td>en</td>\n",
       "      <td>best earbuds</td>\n",
       "      <td>quality design earbuds good feel like premium ...</td>\n",
       "      <td>2</td>\n",
       "      <td>27</td>\n",
       "      <td>11</td>\n",
       "      <td>175</td>\n",
       "      <td>1</td>\n",
       "      <td>6.481481</td>\n",
       "      <td>27.0</td>\n",
       "    </tr>\n",
       "    <tr>\n",
       "      <th>1</th>\n",
       "      <td>Amezing product P tron</td>\n",
       "      <td>True Wireless Bluetooth Headphones(TWS) with i...</td>\n",
       "      <td>5.0</td>\n",
       "      <td>en</td>\n",
       "      <td>amezing product p tron</td>\n",
       "      <td>true wireless bluetooth headphonestws immersiv...</td>\n",
       "      <td>4</td>\n",
       "      <td>86</td>\n",
       "      <td>19</td>\n",
       "      <td>559</td>\n",
       "      <td>1</td>\n",
       "      <td>6.500000</td>\n",
       "      <td>86.0</td>\n",
       "    </tr>\n",
       "    <tr>\n",
       "      <th>2</th>\n",
       "      <td>Best purchase😍</td>\n",
       "      <td>Sound quality is so good.. Pocket friendly wi...</td>\n",
       "      <td>5.0</td>\n",
       "      <td>en</td>\n",
       "      <td>best purchase</td>\n",
       "      <td>sound quality good pocket friendly wireless ea...</td>\n",
       "      <td>2</td>\n",
       "      <td>46</td>\n",
       "      <td>12</td>\n",
       "      <td>260</td>\n",
       "      <td>1</td>\n",
       "      <td>5.652174</td>\n",
       "      <td>46.0</td>\n",
       "    </tr>\n",
       "    <tr>\n",
       "      <th>3</th>\n",
       "      <td>Best quality earbuds</td>\n",
       "      <td>Bassbuds connects really well even from a good...</td>\n",
       "      <td>5.0</td>\n",
       "      <td>en</td>\n",
       "      <td>best quality earbuds</td>\n",
       "      <td>bassbuds connects really well even good distan...</td>\n",
       "      <td>3</td>\n",
       "      <td>42</td>\n",
       "      <td>18</td>\n",
       "      <td>242</td>\n",
       "      <td>1</td>\n",
       "      <td>5.761905</td>\n",
       "      <td>42.0</td>\n",
       "    </tr>\n",
       "    <tr>\n",
       "      <th>4</th>\n",
       "      <td>Replace if you get defective piece</td>\n",
       "      <td>Initially gave 2 stars for first one. They so...</td>\n",
       "      <td>5.0</td>\n",
       "      <td>en</td>\n",
       "      <td>replace get defective piece</td>\n",
       "      <td>initially gave 2 star first one sold used one ...</td>\n",
       "      <td>4</td>\n",
       "      <td>119</td>\n",
       "      <td>24</td>\n",
       "      <td>623</td>\n",
       "      <td>1</td>\n",
       "      <td>5.235294</td>\n",
       "      <td>119.0</td>\n",
       "    </tr>\n",
       "  </tbody>\n",
       "</table>\n",
       "</div>"
      ],
      "text/plain": [
       "                               review  \\\n",
       "0                        Best Earbuds   \n",
       "1              Amezing product P tron   \n",
       "2                      Best purchase😍   \n",
       "3                Best quality earbuds   \n",
       "4  Replace if you get defective piece   \n",
       "\n",
       "                                         main_review  rating lang  \\\n",
       "0  The Quality And Design of the Earbuds are so g...     5.0   en   \n",
       "1  True Wireless Bluetooth Headphones(TWS) with i...     5.0   en   \n",
       "2   Sound quality is so good.. Pocket friendly wi...     5.0   en   \n",
       "3  Bassbuds connects really well even from a good...     5.0   en   \n",
       "4   Initially gave 2 stars for first one. They so...     5.0   en   \n",
       "\n",
       "                  clean_review  \\\n",
       "0                 best earbuds   \n",
       "1       amezing product p tron   \n",
       "2                best purchase   \n",
       "3         best quality earbuds   \n",
       "4  replace get defective piece   \n",
       "\n",
       "                                   clean_main_review  rev_w_count  \\\n",
       "0  quality design earbuds good feel like premium ...            2   \n",
       "1  true wireless bluetooth headphonestws immersiv...            4   \n",
       "2  sound quality good pocket friendly wireless ea...            2   \n",
       "3  bassbuds connects really well even good distan...            3   \n",
       "4  initially gave 2 star first one sold used one ...            4   \n",
       "\n",
       "   main_rev_w_count  rev_char_count  main_rev_char_count  sentence_count  \\\n",
       "0                27              11                  175               1   \n",
       "1                86              19                  559               1   \n",
       "2                46              12                  260               1   \n",
       "3                42              18                  242               1   \n",
       "4               119              24                  623               1   \n",
       "\n",
       "   avg_word_length  avg_sentence_lenght  \n",
       "0         6.481481                 27.0  \n",
       "1         6.500000                 86.0  \n",
       "2         5.652174                 46.0  \n",
       "3         5.761905                 42.0  \n",
       "4         5.235294                119.0  "
      ]
     },
     "execution_count": 73,
     "metadata": {},
     "output_type": "execute_result"
    }
   ],
   "source": [
    "# extracting the word counts, character counts, sentence count for each reivew\n",
    "df['rev_w_count'] = df[\"clean_review\"].apply(lambda x: len(str(x).split(\" \")))\n",
    "df['main_rev_w_count'] = df[\"clean_main_review\"].apply(lambda x: len(str(x).split(\" \")))\n",
    "df['rev_char_count'] = df[\"clean_review\"].apply(lambda x: sum(len(word) for word in str(x).split(\" \")))\n",
    "df['main_rev_char_count'] = df[\"clean_main_review\"].apply(lambda x: sum(len(word) for word in str(x).split(\" \")))\n",
    "df['sentence_count'] = df[\"clean_main_review\"].apply(lambda x: len(str(x).split(\".\")))\n",
    "df['avg_word_length'] = df['main_rev_char_count'] / df['main_rev_w_count']\n",
    "df['avg_sentence_lenght'] = df['main_rev_w_count'] / df['sentence_count']\n",
    "df.head()"
   ]
  },
  {
   "cell_type": "code",
   "execution_count": 74,
   "metadata": {},
   "outputs": [],
   "source": [
    "# dropping the raw reivew\n",
    "df.drop([\"review\", \"main_review\"], inplace = True, axis = 1)"
   ]
  },
  {
   "cell_type": "code",
   "execution_count": 85,
   "metadata": {},
   "outputs": [
    {
     "data": {
      "image/png": "[encoded data removed]",
      "text/plain": [
       "<Figure size 864x360 with 2 Axes>"
      ]
     },
     "metadata": {
      "needs_background": "light"
     },
     "output_type": "display_data"
    }
   ],
   "source": [
    "x, y = \"main_rev_char_count\", \"rating\"\n",
    "fig, ax = plt.subplots(nrows=1, ncols=2, figsize = (12,5))\n",
    "fig.suptitle(x, fontsize=12)\n",
    "#fig.size(10,5)\n",
    "for i in df[y].unique():\n",
    "    sns.distplot(df[df[y]==i][x], hist=True, kde=False, \n",
    "                 bins=10, hist_kws={\"alpha\":0.8}, \n",
    "                 axlabel=\"histogram\", ax=ax[0])\n",
    "    sns.distplot(df[df[y]==i][x], hist=False, kde=True, \n",
    "                 kde_kws={\"shade\":True}, axlabel=\"density\",   \n",
    "                 ax=ax[1])\n",
    "ax[0].grid(True)\n",
    "ax[0].legend(df[y].unique())\n",
    "ax[1].grid(True)\n",
    "plt.show()"
   ]
  },
  {
   "cell_type": "markdown",
   "metadata": {},
   "source": [
    "As it is clear from the density plot, the maximum review have length between 0 to 2000. The reviews that has larger character length can be considered as outliers and we can filter that data."
   ]
  },
  {
   "cell_type": "markdown",
   "metadata": {},
   "source": [
    "We will also analyze the sentiment of the review by using some pretrained model such as TextBlob."
   ]
  },
  {
   "cell_type": "code",
   "execution_count": 93,
   "metadata": {},
   "outputs": [],
   "source": [
    "# adding the sentiment of the reivew\n",
    "df[\"sentiment\"] = df['clean_main_review'].apply(lambda x: TextBlob(x).sentiment.polarity)"
   ]
  },
  {
   "cell_type": "code",
   "execution_count": 97,
   "metadata": {},
   "outputs": [
    {
     "data": {
      "image/png": "[encoded data removed]",
      "text/plain": [
       "<Figure size 864x360 with 2 Axes>"
      ]
     },
     "metadata": {
      "needs_background": "light"
     },
     "output_type": "display_data"
    }
   ],
   "source": [
    "x, y = \"sentiment\", \"rating\"\n",
    "fig, ax = plt.subplots(nrows=1, ncols=2, figsize = (12,5))\n",
    "fig.suptitle(x, fontsize=12)\n",
    "#fig.size(10,5)\n",
    "for i in df[y].unique():\n",
    "    sns.distplot(df[df[y]==i][x], hist=True, kde=False, bins=10, hist_kws={\"alpha\":0.8}, axlabel=\"histogram\", ax=ax[0])\n",
    "    sns.distplot(df[df[y]==i][x], hist=False, kde=True, kde_kws={\"shade\":True}, axlabel=\"density\", ax=ax[1])\n",
    "ax[0].grid(True)\n",
    "ax[0].legend(df[y].unique())\n",
    "ax[1].grid(True)\n",
    "plt.show()"
   ]
  },
  {
   "cell_type": "markdown",
   "metadata": {},
   "source": [
    "We can see from the graph that the reviews with low rating has negative sentiment whereas the review with the high rating has positive sentiments."
   ]
  },
  {
   "cell_type": "code",
   "execution_count": 111,
   "metadata": {},
   "outputs": [
    {
     "data": {
      "image/png": "[encoded data removed]",
      "text/plain": [
       "<Figure size 720x504 with 1 Axes>"
      ]
     },
     "metadata": {
      "needs_background": "light"
     },
     "output_type": "display_data"
    }
   ],
   "source": [
    "# making the word cloud of the 100 important words of the reivew\n",
    "wc = wordcloud.WordCloud(background_color='black', max_words=100, max_font_size=35)\n",
    "corpus = df[\"clean_main_review\"]\n",
    "wc = wc.generate(str(corpus))\n",
    "fig = plt.figure(figsize=(10,7))\n",
    "plt.axis('off')\n",
    "plt.imshow(wc, cmap=None)\n",
    "plt.show()"
   ]
  },
  {
   "cell_type": "code",
   "execution_count": 2,
   "metadata": {},
   "outputs": [],
   "source": [
    "nlp = gensim_api.load(\"glove-wiki-gigaword-300\")"
   ]
  },
  {
   "cell_type": "code",
   "execution_count": 114,
   "metadata": {},
   "outputs": [],
   "source": [
    "import gensim"
   ]
  },
  {
   "cell_type": "code",
   "execution_count": null,
   "metadata": {},
   "outputs": [],
   "source": [
    "df.to_csv(\"cleaned_df.csv\")"
   ]
  },
  {
   "cell_type": "code",
   "execution_count": 4,
   "metadata": {},
   "outputs": [],
   "source": [
    "df = pd.read_csv(\"cleaned_df.csv\")"
   ]
  },
  {
   "cell_type": "code",
   "execution_count": 5,
   "metadata": {},
   "outputs": [
    {
     "data": {
      "text/html": [
       "<div>\n",
       "<style scoped>\n",
       "    .dataframe tbody tr th:only-of-type {\n",
       "        vertical-align: middle;\n",
       "    }\n",
       "\n",
       "    .dataframe tbody tr th {\n",
       "        vertical-align: top;\n",
       "    }\n",
       "\n",
       "    .dataframe thead th {\n",
       "        text-align: right;\n",
       "    }\n",
       "</style>\n",
       "<table border=\"1\" class=\"dataframe\">\n",
       "  <thead>\n",
       "    <tr style=\"text-align: right;\">\n",
       "      <th></th>\n",
       "      <th>rating</th>\n",
       "      <th>lang</th>\n",
       "      <th>clean_review</th>\n",
       "      <th>clean_main_review</th>\n",
       "      <th>rev_w_count</th>\n",
       "      <th>main_rev_w_count</th>\n",
       "      <th>rev_char_count</th>\n",
       "      <th>main_rev_char_count</th>\n",
       "      <th>sentence_count</th>\n",
       "      <th>avg_word_length</th>\n",
       "      <th>avg_sentence_lenght</th>\n",
       "      <th>sentiment</th>\n",
       "    </tr>\n",
       "  </thead>\n",
       "  <tbody>\n",
       "    <tr>\n",
       "      <th>0</th>\n",
       "      <td>5.0</td>\n",
       "      <td>en</td>\n",
       "      <td>best earbuds</td>\n",
       "      <td>quality design earbuds good feel like premium ...</td>\n",
       "      <td>2</td>\n",
       "      <td>27</td>\n",
       "      <td>11</td>\n",
       "      <td>175</td>\n",
       "      <td>1</td>\n",
       "      <td>6.481481</td>\n",
       "      <td>27.0</td>\n",
       "      <td>0.566667</td>\n",
       "    </tr>\n",
       "    <tr>\n",
       "      <th>1</th>\n",
       "      <td>5.0</td>\n",
       "      <td>en</td>\n",
       "      <td>amezing product p tron</td>\n",
       "      <td>true wireless bluetooth headphonestws immersiv...</td>\n",
       "      <td>4</td>\n",
       "      <td>86</td>\n",
       "      <td>19</td>\n",
       "      <td>559</td>\n",
       "      <td>1</td>\n",
       "      <td>6.500000</td>\n",
       "      <td>86.0</td>\n",
       "      <td>0.146349</td>\n",
       "    </tr>\n",
       "    <tr>\n",
       "      <th>2</th>\n",
       "      <td>5.0</td>\n",
       "      <td>en</td>\n",
       "      <td>best purchase</td>\n",
       "      <td>sound quality good pocket friendly wireless ea...</td>\n",
       "      <td>2</td>\n",
       "      <td>46</td>\n",
       "      <td>12</td>\n",
       "      <td>260</td>\n",
       "      <td>1</td>\n",
       "      <td>5.652174</td>\n",
       "      <td>46.0</td>\n",
       "      <td>0.406955</td>\n",
       "    </tr>\n",
       "    <tr>\n",
       "      <th>3</th>\n",
       "      <td>5.0</td>\n",
       "      <td>en</td>\n",
       "      <td>best quality earbuds</td>\n",
       "      <td>bassbuds connects really well even good distan...</td>\n",
       "      <td>3</td>\n",
       "      <td>42</td>\n",
       "      <td>18</td>\n",
       "      <td>242</td>\n",
       "      <td>1</td>\n",
       "      <td>5.761905</td>\n",
       "      <td>42.0</td>\n",
       "      <td>0.543590</td>\n",
       "    </tr>\n",
       "    <tr>\n",
       "      <th>4</th>\n",
       "      <td>5.0</td>\n",
       "      <td>en</td>\n",
       "      <td>replace get defective piece</td>\n",
       "      <td>initially gave 2 star first one sold used one ...</td>\n",
       "      <td>4</td>\n",
       "      <td>119</td>\n",
       "      <td>24</td>\n",
       "      <td>623</td>\n",
       "      <td>1</td>\n",
       "      <td>5.235294</td>\n",
       "      <td>119.0</td>\n",
       "      <td>0.195985</td>\n",
       "    </tr>\n",
       "  </tbody>\n",
       "</table>\n",
       "</div>"
      ],
      "text/plain": [
       "   rating lang                 clean_review  \\\n",
       "0     5.0   en                 best earbuds   \n",
       "1     5.0   en       amezing product p tron   \n",
       "2     5.0   en                best purchase   \n",
       "3     5.0   en         best quality earbuds   \n",
       "4     5.0   en  replace get defective piece   \n",
       "\n",
       "                                   clean_main_review  rev_w_count  \\\n",
       "0  quality design earbuds good feel like premium ...            2   \n",
       "1  true wireless bluetooth headphonestws immersiv...            4   \n",
       "2  sound quality good pocket friendly wireless ea...            2   \n",
       "3  bassbuds connects really well even good distan...            3   \n",
       "4  initially gave 2 star first one sold used one ...            4   \n",
       "\n",
       "   main_rev_w_count  rev_char_count  main_rev_char_count  sentence_count  \\\n",
       "0                27              11                  175               1   \n",
       "1                86              19                  559               1   \n",
       "2                46              12                  260               1   \n",
       "3                42              18                  242               1   \n",
       "4               119              24                  623               1   \n",
       "\n",
       "   avg_word_length  avg_sentence_lenght  sentiment  \n",
       "0         6.481481                 27.0   0.566667  \n",
       "1         6.500000                 86.0   0.146349  \n",
       "2         5.652174                 46.0   0.406955  \n",
       "3         5.761905                 42.0   0.543590  \n",
       "4         5.235294                119.0   0.195985  "
      ]
     },
     "execution_count": 5,
     "metadata": {},
     "output_type": "execute_result"
    }
   ],
   "source": [
    "df.drop([\"Unnamed: 0\"], inplace = True, axis = 1)\n",
    "df.head()"
   ]
  },
  {
   "cell_type": "code",
   "execution_count": 6,
   "metadata": {},
   "outputs": [],
   "source": [
    "dtf = df[df[\"main_rev_char_count\"]<1500] "
   ]
  },
  {
   "cell_type": "markdown",
   "metadata": {},
   "source": [
    "We will use tfidf to vectorize the text data."
   ]
  },
  {
   "cell_type": "code",
   "execution_count": 7,
   "metadata": {},
   "outputs": [],
   "source": [
    "from sklearn.feature_extraction.text import TfidfVectorizer\n",
    "from sklearn.model_selection import train_test_split\n",
    "from sklearn.svm import LinearSVC\n",
    "from sklearn.metrics import classification_report"
   ]
  },
  {
   "cell_type": "code",
   "execution_count": 8,
   "metadata": {},
   "outputs": [],
   "source": [
    "tfidf = TfidfVectorizer(max_features = 20000, ngram_range=(1,3), analyzer = \"char\")"
   ]
  },
  {
   "cell_type": "code",
   "execution_count": 9,
   "metadata": {},
   "outputs": [],
   "source": [
    "#X = tfidf.fit_transform(df[\"clean_main_review\"])\n",
    "X = tfidf.fit_transform(dtf['clean_main_review'].values.astype('U'))\n",
    "y = dtf['rating']"
   ]
  },
  {
   "cell_type": "code",
   "execution_count": 10,
   "metadata": {},
   "outputs": [
    {
     "data": {
      "text/plain": [
       "((18027, 7332), (18027,))"
      ]
     },
     "execution_count": 10,
     "metadata": {},
     "output_type": "execute_result"
    }
   ],
   "source": [
    "X.shape, y.shape"
   ]
  },
  {
   "cell_type": "code",
   "execution_count": 11,
   "metadata": {},
   "outputs": [],
   "source": [
    "X_train, X_test, y_train, y_test = train_test_split(X, y, test_size = 0.2, random_state = 0)"
   ]
  },
  {
   "cell_type": "markdown",
   "metadata": {},
   "source": [
    "## Linear SVC"
   ]
  },
  {
   "cell_type": "code",
   "execution_count": 12,
   "metadata": {},
   "outputs": [],
   "source": [
    "LSVC = LinearSVC(C = 10, class_weight = \"balanced\", max_iter = 20000)\n",
    "LSVC.fit(X_train, y_train)\n",
    "y_pred = LSVC.predict(X_test)"
   ]
  },
  {
   "cell_type": "code",
   "execution_count": 14,
   "metadata": {},
   "outputs": [
    {
     "data": {
      "text/plain": [
       "(3677, 8055)"
      ]
     },
     "execution_count": 14,
     "metadata": {},
     "output_type": "execute_result"
    }
   ],
   "source": [
    "X_train.shape"
   ]
  },
  {
   "cell_type": "code",
   "execution_count": 13,
   "metadata": {},
   "outputs": [
    {
     "name": "stdout",
     "output_type": "stream",
     "text": [
      "              precision    recall  f1-score   support\n",
      "\n",
      "         1.0       0.65      0.51      0.57      1449\n",
      "         2.0       0.25      0.67      0.36       108\n",
      "         3.0       0.36      0.67      0.47       249\n",
      "         4.0       0.35      0.46      0.40       495\n",
      "         5.0       0.64      0.53      0.58      1305\n",
      "\n",
      "    accuracy                           0.53      3606\n",
      "   macro avg       0.45      0.57      0.48      3606\n",
      "weighted avg       0.57      0.53      0.54      3606\n",
      "\n"
     ]
    }
   ],
   "source": [
    "y_pred = LSVC.predict(X_test)\n",
    "print(classification_report(y_test, y_pred))"
   ]
  },
  {
   "cell_type": "markdown",
   "metadata": {},
   "source": [
    "## Decision Tree Classifier"
   ]
  },
  {
   "cell_type": "code",
   "execution_count": 14,
   "metadata": {},
   "outputs": [],
   "source": [
    "from sklearn.tree import DecisionTreeClassifier"
   ]
  },
  {
   "cell_type": "code",
   "execution_count": 15,
   "metadata": {},
   "outputs": [],
   "source": [
    "DT = DecisionTreeClassifier(class_weight = 'balanced')\n",
    "DT.fit(X_train, y_train)\n",
    "y_pred_DT = DT.predict(X_test)"
   ]
  },
  {
   "cell_type": "code",
   "execution_count": 16,
   "metadata": {},
   "outputs": [
    {
     "name": "stdout",
     "output_type": "stream",
     "text": [
      "              precision    recall  f1-score   support\n",
      "\n",
      "         1.0       0.70      0.39      0.50      1449\n",
      "         2.0       0.18      0.81      0.30       108\n",
      "         3.0       0.32      0.72      0.45       249\n",
      "         4.0       0.31      0.59      0.41       495\n",
      "         5.0       0.65      0.41      0.50      1305\n",
      "\n",
      "    accuracy                           0.46      3606\n",
      "   macro avg       0.43      0.58      0.43      3606\n",
      "weighted avg       0.59      0.46      0.48      3606\n",
      "\n"
     ]
    }
   ],
   "source": [
    "print(classification_report(y_test, y_pred_DT))"
   ]
  },
  {
   "cell_type": "markdown",
   "metadata": {},
   "source": [
    "## Random Forest Classifier"
   ]
  },
  {
   "cell_type": "code",
   "execution_count": 17,
   "metadata": {},
   "outputs": [],
   "source": [
    "from sklearn.ensemble import RandomForestClassifier"
   ]
  },
  {
   "cell_type": "code",
   "execution_count": 18,
   "metadata": {},
   "outputs": [],
   "source": [
    "RF = RandomForestClassifier(class_weight = \"balanced\")\n",
    "RF.fit(X_train, y_train)\n",
    "y_predRF = RF.predict(X_test)"
   ]
  },
  {
   "cell_type": "code",
   "execution_count": 19,
   "metadata": {},
   "outputs": [
    {
     "name": "stdout",
     "output_type": "stream",
     "text": [
      "              precision    recall  f1-score   support\n",
      "\n",
      "         1.0       0.69      0.42      0.52      1449\n",
      "         2.0       0.21      0.79      0.33       108\n",
      "         3.0       0.34      0.72      0.46       249\n",
      "         4.0       0.32      0.57      0.41       495\n",
      "         5.0       0.65      0.44      0.53      1305\n",
      "\n",
      "    accuracy                           0.48      3606\n",
      "   macro avg       0.44      0.59      0.45      3606\n",
      "weighted avg       0.59      0.48      0.50      3606\n",
      "\n"
     ]
    }
   ],
   "source": [
    "print(classification_report(y_test, y_predRF))"
   ]
  },
  {
   "cell_type": "markdown",
   "metadata": {},
   "source": [
    "## Naive Bayes"
   ]
  },
  {
   "cell_type": "code",
   "execution_count": 20,
   "metadata": {},
   "outputs": [],
   "source": [
    "from sklearn.naive_bayes import MultinomialNB"
   ]
  },
  {
   "cell_type": "code",
   "execution_count": 24,
   "metadata": {},
   "outputs": [],
   "source": [
    "NB = MultinomialNB()\n",
    "NB.fit(X_train, y_train)\n",
    "y_predNB = NB.predict(X_test)"
   ]
  },
  {
   "cell_type": "code",
   "execution_count": 25,
   "metadata": {},
   "outputs": [
    {
     "name": "stdout",
     "output_type": "stream",
     "text": [
      "              precision    recall  f1-score   support\n",
      "\n",
      "         1.0       0.54      0.74      0.63      1449\n",
      "         2.0       0.00      0.00      0.00       108\n",
      "         3.0       0.83      0.14      0.23       249\n",
      "         4.0       0.39      0.04      0.08       495\n",
      "         5.0       0.55      0.63      0.58      1305\n",
      "\n",
      "    accuracy                           0.54      3606\n",
      "   macro avg       0.46      0.31      0.30      3606\n",
      "weighted avg       0.53      0.54      0.49      3606\n",
      "\n"
     ]
    }
   ],
   "source": [
    "print(classification_report(y_test, y_predNB))"
   ]
  },
  {
   "cell_type": "code",
   "execution_count": 46,
   "metadata": {},
   "outputs": [],
   "source": [
    "from sklearn.ensemble import RandomForestRegressor"
   ]
  },
  {
   "cell_type": "code",
   "execution_count": 52,
   "metadata": {},
   "outputs": [],
   "source": [
    "RFR = RandomForestRegressor()\n",
    "RFR.fit(X_train, y_train)\n",
    "y_predRFR = RFR.predict(X_test)"
   ]
  },
  {
   "cell_type": "code",
   "execution_count": 50,
   "metadata": {},
   "outputs": [
    {
     "data": {
      "text/plain": [
       "0.4769828064337216"
      ]
     },
     "execution_count": 50,
     "metadata": {},
     "output_type": "execute_result"
    }
   ],
   "source": [
    "RFR.score(X_test, y_test)"
   ]
  },
  {
   "cell_type": "code",
   "execution_count": null,
   "metadata": {},
   "outputs": [],
   "source": []
  }
 ],
 "metadata": {
  "kernelspec": {
   "display_name": "Python 3",
   "language": "python",
   "name": "python3"
  },
  "language_info": {
   "codemirror_mode": {
    "name": "ipython",
    "version": 3
   },
   "file_extension": ".py",
   "mimetype": "text/x-python",
   "name": "python",
   "nbconvert_exporter": "python",
   "pygments_lexer": "ipython3",
   "version": "3.7.3"
  }
 },
 "nbformat": 4,
 "nbformat_minor": 4
}
